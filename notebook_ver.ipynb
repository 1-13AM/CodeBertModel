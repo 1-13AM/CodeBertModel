{
 "cells": [
  {
   "cell_type": "code",
   "execution_count": 1,
   "metadata": {},
   "outputs": [
    {
     "name": "stderr",
     "output_type": "stream",
     "text": [
      "/usr/lib/python3/dist-packages/requests/__init__.py:89: RequestsDependencyWarning: urllib3 (2.2.1) or chardet (3.0.4) doesn't match a supported version!\n",
      "  warnings.warn(\"urllib3 ({}) or chardet ({}) doesn't match a supported \"\n",
      "/home/grad-min/.local/lib/python3.8/site-packages/tqdm/auto.py:21: TqdmWarning: IProgress not found. Please update jupyter and ipywidgets. See https://ipywidgets.readthedocs.io/en/stable/user_install.html\n",
      "  from .autonotebook import tqdm as notebook_tqdm\n"
     ]
    }
   ],
   "source": [
    "import re\n",
    "import torch\n",
    "from transformers import AutoTokenizer, AutoModelForSequenceClassification, Trainer, TrainingArguments, AutoModel\n",
    "from datasets import Dataset, load_dataset\n",
    "import pandas as pd\n",
    "import numpy as np\n",
    "import random\n",
    "\n",
    "seed = 2610\n",
    "random.seed(seed)\n",
    "torch.manual_seed(seed)\n",
    "torch.cuda.manual_seed(seed)\n",
    "np.random.seed(seed)\n",
    "torch.backends.cudnn.deterministic = True\n",
    "torch.backends.cudnn.benchmark = False\n",
    "\n",
    "device = 'cuda' if torch.cuda.is_available() else 'cpu'"
   ]
  },
  {
   "cell_type": "code",
   "execution_count": 2,
   "metadata": {},
   "outputs": [
    {
     "name": "stderr",
     "output_type": "stream",
     "text": [
      "Some weights of RobertaModel were not initialized from the model checkpoint at neulab/codebert-c and are newly initialized: ['roberta.pooler.dense.bias', 'roberta.pooler.dense.weight']\n",
      "You should probably TRAIN this model on a down-stream task to be able to use it for predictions and inference.\n"
     ]
    }
   ],
   "source": [
    "model_ckpt = 'neulab/codebert-c'\n",
    "#model_ckpt = 'neulab/codebert-cpp'\n",
    "#model_ckpt = 'Salesforce/codet5p-110m-embedding'\n",
    "#model_ckpt = 'microsoft/unixcoder-base'\n",
    "#model_ckpt = 'codesage/codesage-small'\n",
    "#model_ckpt = 'FacebookAI/roberta-base'\n",
    "tokenizer = AutoTokenizer.from_pretrained(model_ckpt)\n",
    "model = AutoModel.from_pretrained(model_ckpt, trust_remote_code=True).to(device)"
   ]
  },
  {
   "cell_type": "code",
   "execution_count": 3,
   "metadata": {},
   "outputs": [],
   "source": [
    "# specify the file path here\n",
    "file_path = 'full_data.csv'\n",
    "data = pd.read_csv(file_path)"
   ]
  },
  {
   "cell_type": "code",
   "execution_count": 4,
   "metadata": {},
   "outputs": [],
   "source": [
    "comment_regex = r'(//[^\\n]*|\\/\\*[\\s\\S]*?\\*\\/)'\n",
    "newline_regex = '\\n{1,}'\n",
    "whitespace_regex = '\\s{2,}'\n",
    "\n",
    "def data_cleaning(inp, pat, rep):\n",
    "  return re.sub(pat, rep, inp)\n",
    "\n",
    "data['truncated_code'] = (data['code'].apply(data_cleaning, args=(comment_regex, ''))\n",
    "                                      .apply(data_cleaning, args=(newline_regex, ' '))\n",
    "                                      .apply(data_cleaning, args=(whitespace_regex, ' '))\n",
    "                         )\n",
    "# remove all data points that have more than 15000 characters\n",
    "length_check = np.array([len(x) for x in data['truncated_code']]) > 15000\n",
    "data = data[~length_check]"
   ]
  },
  {
   "cell_type": "code",
   "execution_count": 5,
   "metadata": {},
   "outputs": [],
   "source": [
    "from sklearn.model_selection import train_test_split\n",
    "X_train, X_test_valid, y_train, y_test_valid = train_test_split(data.loc[:, data.columns != 'label'],\n",
    "                                                                data['label'],\n",
    "                                                                train_size=0.8,\n",
    "                                                                stratify=data['label']\n",
    "                                                               )\n",
    "X_test, X_valid, y_test, y_valid = train_test_split(X_test_valid.loc[:, X_test_valid.columns != 'label'],\n",
    "                                                    y_test_valid,\n",
    "                                                    test_size=0.5,\n",
    "                                                    stratify=y_test_valid)"
   ]
  },
  {
   "cell_type": "code",
   "execution_count": 6,
   "metadata": {},
   "outputs": [],
   "source": [
    "data_train = X_train\n",
    "data_train['label'] = y_train\n",
    "data_test = X_test\n",
    "data_test['label'] = y_test\n",
    "data_valid = X_valid\n",
    "data_valid['label'] = y_valid"
   ]
  },
  {
   "cell_type": "code",
   "execution_count": 7,
   "metadata": {},
   "outputs": [],
   "source": [
    "from datasets import Dataset, DatasetDict\n",
    "#dts = Dataset.from_pandas(data)\n",
    "dts = DatasetDict()\n",
    "dts['train'] = Dataset.from_pandas(data_train)\n",
    "dts['test'] = Dataset.from_pandas(pd.concat([data_test, data_valid]))\n",
    "dts['valid'] = Dataset.from_pandas(pd.concat([data_test, data_valid]))"
   ]
  },
  {
   "cell_type": "code",
   "execution_count": 8,
   "metadata": {},
   "outputs": [
    {
     "name": "stderr",
     "output_type": "stream",
     "text": [
      "Map:   0%|          | 0/21760 [00:00<?, ? examples/s]Token indices sequence length is longer than the specified maximum sequence length for this model (1768 > 512). Running this sequence through the model will result in indexing errors\n",
      "Map: 100%|██████████| 21760/21760 [00:16<00:00, 1314.31 examples/s]\n",
      "Map: 100%|██████████| 5440/5440 [00:04<00:00, 1279.33 examples/s]\n",
      "Map: 100%|██████████| 5440/5440 [00:04<00:00, 1279.72 examples/s]\n"
     ]
    }
   ],
   "source": [
    "def tokenizer_func(examples):\n",
    "      result = tokenizer(examples['truncated_code'])\n",
    "      return result\n",
    "\n",
    "dts = dts.map(tokenizer_func, batched=True, batch_size=4)"
   ]
  },
  {
   "cell_type": "code",
   "execution_count": 10,
   "metadata": {},
   "outputs": [
    {
     "data": {
      "text/plain": [
       "'neulab/codebert-c'"
      ]
     },
     "execution_count": 10,
     "metadata": {},
     "output_type": "execute_result"
    }
   ],
   "source": [
    "model_ckpt"
   ]
  },
  {
   "cell_type": "code",
   "execution_count": null,
   "metadata": {},
   "outputs": [],
   "source": [
    "dts.set_format('torch')\n",
    "dts.rename_column('label', 'labels')\n",
    "dts = dts.remove_columns(['code', 'truncated_code', '__index_level_0__'])"
   ]
  },
  {
   "cell_type": "code",
   "execution_count": 12,
   "metadata": {},
   "outputs": [],
   "source": [
    "import torch.nn as nn\n",
    "import torch\n",
    "from transformers import AutoModel\n",
    "class PositionalEncoding(nn.Module):\n",
    "    def __init__(self, d_model, max_len, dropout=0.1, padding_idx=0):\n",
    "        super().__init__()\n",
    "        self.dropout = nn.Dropout(p=dropout)\n",
    "        \n",
    "        # define embedding layers for encoding positions\n",
    "        self.pos_encoding = nn.Embedding(max_len, d_model, padding_idx=padding_idx)\n",
    "        \n",
    "    def forward(self, x):\n",
    "        device = x.device\n",
    "        chunk_size, B, d_model = x.shape\n",
    "        position_ids = torch.arange(0, chunk_size, dtype=torch.int).unsqueeze(1).to(device)\n",
    "        position_enc = self.pos_encoding(position_ids) # (chunk_size, 1, d_model)\n",
    "        position_enc = position_enc.expand(chunk_size, B, d_model)\n",
    "        \n",
    "        # Add positional encoding to the input token embeddings\n",
    "        x = x + position_enc\n",
    "        x = self.dropout(x)\n",
    "        \n",
    "        return x\n",
    "    \n",
    "class CodeBertModel(nn.Module):\n",
    "    def __init__(self, \n",
    "                 max_seq_length: int = 512, \n",
    "                 chunk_size: int = 512, \n",
    "                 n_attn_head: int = 2,\n",
    "                 dim_feedforward: int = 768,\n",
    "                 padding_idx: int = 0,\n",
    "                 model_ckpt: str = 'Salesforce/codet5p-110m-embedding'\n",
    "                 ):\n",
    "        super().__init__()\n",
    "        self.embedding_model = AutoModel.from_pretrained(model_ckpt, trust_remote_code=True)\n",
    "        \n",
    "        dict_config = self.embedding_model.config.to_dict()\n",
    "        for sym in ['hidden_dim', 'embed_dim', 'hidden_size']:\n",
    "            if sym in dict_config.keys():\n",
    "                embed_dim = dict_config[sym]\n",
    "                \n",
    "        \n",
    "        encoder_layer = nn.TransformerEncoderLayer(d_model=embed_dim,\n",
    "                                                   nhead=n_attn_head,\n",
    "                                                   dim_feedforward=dim_feedforward,\n",
    "                                                   batch_first=False)\n",
    "        \n",
    "        self.transformer_encoder = nn.TransformerEncoder(encoder_layer=encoder_layer,\n",
    "                                                         num_layers=2,\n",
    "                                                         )\n",
    "\n",
    "        self.positional_encoding = PositionalEncoding(max_len=max_seq_length, \n",
    "                                                      d_model=embed_dim, \n",
    "                                                      padding_idx=padding_idx)\n",
    "        \n",
    "        self.loss_func = nn.CrossEntropyLoss(weight=torch.Tensor([1.0, 3.0]),\n",
    "                                             label_smoothing=0.2)\n",
    "        \n",
    "        self.ffn = nn.Sequential(nn.Dropout(p=0.1),\n",
    "                                 nn.Linear(embed_dim, 2)\n",
    "                                 )\n",
    "        self.chunk_size = chunk_size\n",
    "\n",
    "    def prepare_chunk(self, input_ids: torch.Tensor, \n",
    "                            attention_mask: torch.Tensor,\n",
    "                            labels=None):\n",
    "        \"\"\"\n",
    "        Prepare inputs into chunks that self.embedding_model can process (length < context_length)\n",
    "        Shape info:\n",
    "        - input_ids: (B, L)\n",
    "        - attention_mask: (B, L)\n",
    "        \"\"\"\n",
    "        \n",
    "        device = input_ids.device\n",
    "        # calculate number of chunks\n",
    "        num_chunk = input_ids.shape[-1] // self.chunk_size\n",
    "        if input_ids.shape[-1] % self.chunk_size != 0:\n",
    "            num_chunk += 1\n",
    "            pad_len = self.chunk_size - (input_ids.shape[-1] % self.chunk_size)\n",
    "        else: \n",
    "            pad_len = 0\n",
    "        \n",
    "        B = input_ids.shape[0]\n",
    "        # get the model's pad_token_id\n",
    "        pad_token_id = self.embedding_model.config.pad_token_id\n",
    "        \n",
    "        # create a pad & zero tensor, then append it to the input_ids & attention_mask tensor respectively\n",
    "        pad_tensor = torch.Tensor([pad_token_id]).expand(input_ids.shape[0], pad_len).int().to(device)\n",
    "        zero_tensor = torch.zeros(input_ids.shape[0], pad_len).int().to(device)\n",
    "        padded_input_ids = torch.cat([input_ids, pad_tensor], dim = -1).T # (chunk_size * num_chunk, B)\n",
    "        padded_attention_mask = torch.cat([attention_mask, zero_tensor], dim = -1).T # (chunk_size * num_chunk, B)\n",
    "                                                         \n",
    "        chunked_input_ids = padded_input_ids.reshape(num_chunk, self.chunk_size, B).permute(0, 2, 1) # (num_chunk, B, chunk_size)\n",
    "        chunked_attention_mask = padded_attention_mask.reshape(num_chunk, self.chunk_size, B).permute(0, 2, 1) # (num_chunk, B, chunk_size)\n",
    "        \n",
    "        pad_chunk_mask = self.create_chunk_key_padding_mask(chunked_input_ids)\n",
    "        \n",
    "        return chunked_input_ids, chunked_attention_mask, pad_chunk_mask\n",
    "    \n",
    "    def create_chunk_key_padding_mask(self, chunks):\n",
    "        \"\"\"\n",
    "        If a chunk contains only pad tokens, ignore that chunk\n",
    "        chunks: B, num_chunk, chunk_size\n",
    "        \"\"\"\n",
    "        pad_token_id = self.embedding_model.config.pad_token_id\n",
    "        pad_mask = (chunks == pad_token_id)\n",
    "        \n",
    "        num_pad = (torch.sum(pad_mask, -1) == self.chunk_size).permute(1, 0) # (num_chunk, B)\n",
    "        \n",
    "        return num_pad\n",
    "    \n",
    "    def forward(self, input_ids, attention_mask, labels=None):\n",
    "        \n",
    "        # calculate numbers of chunk\n",
    "        chunked_input_ids, chunked_attention_mask, pad_chunk_mask = self.prepare_chunk(input_ids, attention_mask) # (num_chunk, B, chunk_size), (num_chunk, B, chunk_size), (num_chunk, B)\n",
    "        \n",
    "        # reshape input_ids & attention_mask tensors to fit into embedding model\n",
    "        num_chunk, B, chunk_size = chunked_input_ids.shape\n",
    "        chunked_input_ids, chunked_attention_mask = chunked_input_ids.contiguous().view(-1, chunk_size), chunked_attention_mask.contiguous().view(-1, self.chunk_size) # (B * num_chunk, chunk_size), (B * num_chunk, chunk_size)\n",
    "        \n",
    "        # roberta-exclusive\n",
    "        embedded_chunks = (self.embedding_model(input_ids = chunked_input_ids,\n",
    "                                                attention_mask = chunked_attention_mask)['pooler_output'] # (B * num_chunk, self.embedding_model.config.hidden_dim)\n",
    "                               .view(num_chunk, B, -1) # (num_chunk, B, self.embedding_model.config.hidden_dim)\n",
    "                          )\n",
    "        \n",
    "        # embedded_chunks = (self.embedding_model(input_ids = chunked_input_ids,\n",
    "        #                                         attention_mask = chunked_attention_mask) # (B * num_chunk, self.embedding_model.config.hidden_dim)\n",
    "        #                        .view(num_chunk, B, -1) # (num_chunk, B, self.embedding_model.config.hidden_dim)\n",
    "        #                   )\n",
    "        \n",
    "        # embedded_chunks = self.positional_encoding(embedded_chunks)\n",
    "        \n",
    "        # output = self.transformer_encoder(embedded_chunks, \n",
    "        #                                   src_key_padding_mask = pad_chunk_mask) # (num_chunk, B, self.embedding_model.config.hidden_dim)\n",
    "        \n",
    "        # logits = self.ffn(output[0])\n",
    "        chunk_mean = torch.mean(embedded_chunks, 0)\n",
    "        logits = self.ffn(chunk_mean)\n",
    "        \n",
    "        if labels is not None:\n",
    "            loss = self.loss_func(logits, labels)\n",
    "            return {\"loss\": loss, \"logits\": logits}\n",
    "        \n",
    "        return {\"logits\": logits}"
   ]
  },
  {
   "cell_type": "code",
   "execution_count": 13,
   "metadata": {},
   "outputs": [],
   "source": [
    "from sklearn.metrics import precision_score, accuracy_score, recall_score, f1_score\n",
    "def compute_metrics(eval_pred):\n",
    "    y_pred, y_true = np.argmax(eval_pred.predictions, -1), eval_pred.label_ids\n",
    "    return {'accuracy': accuracy_score(y_true, y_pred),\n",
    "            'precision': precision_score(y_true, y_pred),\n",
    "            'recall': recall_score(y_true, y_pred),\n",
    "            'f1': f1_score(y_true, y_pred)}"
   ]
  },
  {
   "cell_type": "code",
   "execution_count": 14,
   "metadata": {},
   "outputs": [
    {
     "name": "stderr",
     "output_type": "stream",
     "text": [
      "Some weights of RobertaModel were not initialized from the model checkpoint at neulab/codebert-c and are newly initialized: ['roberta.pooler.dense.bias', 'roberta.pooler.dense.weight']\n",
      "You should probably TRAIN this model on a down-stream task to be able to use it for predictions and inference.\n",
      "/home/grad-min/.local/lib/python3.8/site-packages/torch/nn/modules/transformer.py:306: UserWarning: enable_nested_tensor is True, but self.use_nested_tensor is False because encoder_layer.self_attn.batch_first was not True(use batch_first for better inference performance)\n",
      "  warnings.warn(f\"enable_nested_tensor is True, but self.use_nested_tensor is False because {why_not_sparsity_fast_path}\")\n"
     ]
    }
   ],
   "source": [
    "model = CodeBertModel(model_ckpt=model_ckpt,\n",
    "                      n_attn_head=8)"
   ]
  },
  {
   "cell_type": "code",
   "execution_count": 15,
   "metadata": {},
   "outputs": [
    {
     "name": "stderr",
     "output_type": "stream",
     "text": [
      "/home/grad-min/.local/lib/python3.8/site-packages/transformers/training_args.py:1474: FutureWarning: `evaluation_strategy` is deprecated and will be removed in version 4.46 of 🤗 Transformers. Use `eval_strategy` instead\n",
      "  warnings.warn(\n",
      "huggingface/tokenizers: The current process just got forked, after parallelism has already been used. Disabling parallelism to avoid deadlocks...\n",
      "To disable this warning, you can either:\n",
      "\t- Avoid using `tokenizers` before the fork if possible\n",
      "\t- Explicitly set the environment variable TOKENIZERS_PARALLELISM=(true | false)\n"
     ]
    }
   ],
   "source": [
    "from transformers import Trainer, TrainingArguments, DataCollatorWithPadding\n",
    "data_collator = DataCollatorWithPadding(tokenizer=tokenizer)\n",
    "\n",
    "training_arguments = TrainingArguments(output_dir = 'my_codeberta',\n",
    "                                      evaluation_strategy = 'epoch',\n",
    "                                      per_device_train_batch_size = 2,\n",
    "                                      per_device_eval_batch_size = 2,\n",
    "                                      gradient_accumulation_steps = 12,\n",
    "                                      learning_rate = 2e-5,\n",
    "                                      num_train_epochs = 3,\n",
    "                                      warmup_ratio = 0.1,\n",
    "                                      lr_scheduler_type = 'cosine',\n",
    "                                      logging_strategy = 'steps',\n",
    "                                      logging_steps = 10,\n",
    "                                      save_strategy = 'no',\n",
    "                                      fp16 = True,\n",
    "                                      metric_for_best_model = 'recall',\n",
    "                                      optim = 'adamw_torch',\n",
    "                                      report_to = 'none'\n",
    "                                      )\n",
    "trainer = Trainer(model=model,\n",
    "                  data_collator=data_collator,\n",
    "                  args=training_arguments,\n",
    "                  train_dataset=dts['train'],\n",
    "                  eval_dataset=dts['valid'],\n",
    "                  compute_metrics=compute_metrics,\n",
    "                 )"
   ]
  },
  {
   "cell_type": "code",
   "execution_count": 16,
   "metadata": {},
   "outputs": [
    {
     "data": {
      "text/html": [
       "\n",
       "    <div>\n",
       "      \n",
       "      <progress value='2718' max='2718' style='width:300px; height:20px; vertical-align: middle;'></progress>\n",
       "      [2718/2718 23:19, Epoch 2/3]\n",
       "    </div>\n",
       "    <table border=\"1\" class=\"dataframe\">\n",
       "  <thead>\n",
       " <tr style=\"text-align: left;\">\n",
       "      <th>Epoch</th>\n",
       "      <th>Training Loss</th>\n",
       "      <th>Validation Loss</th>\n",
       "      <th>Accuracy</th>\n",
       "      <th>Precision</th>\n",
       "      <th>Recall</th>\n",
       "      <th>F1</th>\n",
       "    </tr>\n",
       "  </thead>\n",
       "  <tbody>\n",
       "    <tr>\n",
       "      <td>0</td>\n",
       "      <td>0.647100</td>\n",
       "      <td>0.655965</td>\n",
       "      <td>0.509007</td>\n",
       "      <td>0.480703</td>\n",
       "      <td>0.959274</td>\n",
       "      <td>0.640463</td>\n",
       "    </tr>\n",
       "    <tr>\n",
       "      <td>1</td>\n",
       "      <td>0.611400</td>\n",
       "      <td>0.638768</td>\n",
       "      <td>0.577206</td>\n",
       "      <td>0.520747</td>\n",
       "      <td>0.910887</td>\n",
       "      <td>0.662658</td>\n",
       "    </tr>\n",
       "    <tr>\n",
       "      <td>2</td>\n",
       "      <td>0.624400</td>\n",
       "      <td>0.640001</td>\n",
       "      <td>0.604963</td>\n",
       "      <td>0.541825</td>\n",
       "      <td>0.864516</td>\n",
       "      <td>0.666149</td>\n",
       "    </tr>\n",
       "  </tbody>\n",
       "</table><p>"
      ],
      "text/plain": [
       "<IPython.core.display.HTML object>"
      ]
     },
     "metadata": {},
     "output_type": "display_data"
    },
    {
     "data": {
      "text/plain": [
       "TrainOutput(global_step=2718, training_loss=0.6486820251824138, metrics={'train_runtime': 1400.4906, 'train_samples_per_second': 46.612, 'train_steps_per_second': 1.941, 'total_flos': 0.0, 'train_loss': 0.6486820251824138, 'epoch': 2.997794117647059})"
      ]
     },
     "execution_count": 16,
     "metadata": {},
     "output_type": "execute_result"
    }
   ],
   "source": [
    "#import wandb\n",
    "#wandb.init()\n",
    "trainer.train()\n",
    "#wandb.finish()"
   ]
  },
  {
   "cell_type": "code",
   "execution_count": null,
   "metadata": {},
   "outputs": [],
   "source": [
    "from sklearn.metrics import confusion_matrix\n",
    "y_pred = trainer.predict(dts['test'])\n",
    "y_true = dts['test']['label']"
   ]
  },
  {
   "cell_type": "code",
   "execution_count": 94,
   "metadata": {},
   "outputs": [
    {
     "ename": "AttributeError",
     "evalue": "'list' object has no attribute 'predictions'",
     "output_type": "error",
     "traceback": [
      "\u001b[0;31m---------------------------------------------------------------------------\u001b[0m",
      "\u001b[0;31mAttributeError\u001b[0m                            Traceback (most recent call last)",
      "Cell \u001b[0;32mIn[94], line 1\u001b[0m\n\u001b[0;32m----> 1\u001b[0m y_pred \u001b[38;5;241m=\u001b[39m \u001b[43my_pred\u001b[49m\u001b[38;5;241;43m.\u001b[39;49m\u001b[43mpredictions\u001b[49m\u001b[38;5;241m.\u001b[39margmax(\u001b[38;5;241m-\u001b[39m\u001b[38;5;241m1\u001b[39m)\u001b[38;5;241m.\u001b[39mtolist()\n\u001b[1;32m      2\u001b[0m y_true \u001b[38;5;241m=\u001b[39m y_true\u001b[38;5;241m.\u001b[39mtolist()\n",
      "\u001b[0;31mAttributeError\u001b[0m: 'list' object has no attribute 'predictions'"
     ]
    }
   ],
   "source": [
    "y_pred = y_pred.predictions.argmax(-1).tolist()\n",
    "y_true = y_true"
   ]
  },
  {
   "cell_type": "code",
   "execution_count": 95,
   "metadata": {},
   "outputs": [],
   "source": [
    "y_true = y_true.tolist()"
   ]
  },
  {
   "cell_type": "code",
   "execution_count": 101,
   "metadata": {},
   "outputs": [],
   "source": [
    "conf = confusion_matrix(y_true, y_pred)"
   ]
  },
  {
   "cell_type": "code",
   "execution_count": 106,
   "metadata": {},
   "outputs": [
    {
     "data": {
      "text/plain": [
       "array([[1246, 1714],\n",
       "       [ 310, 2170]])"
      ]
     },
     "execution_count": 106,
     "metadata": {},
     "output_type": "execute_result"
    }
   ],
   "source": [
    "conf"
   ]
  },
  {
   "cell_type": "code",
   "execution_count": 105,
   "metadata": {},
   "outputs": [
    {
     "data": {
      "text/plain": [
       "<Axes: >"
      ]
     },
     "execution_count": 105,
     "metadata": {},
     "output_type": "execute_result"
    },
    {
     "data": {
      "image/png": "[encoded data removed]",
      "text/plain": [
       "<Figure size 640x480 with 2 Axes>"
      ]
     },
     "metadata": {},
     "output_type": "display_data"
    }
   ],
   "source": [
    "import seaborn as sns\n",
    "sns.heatmap(conf, annot=True)"
   ]
  },
  {
   "cell_type": "code",
   "execution_count": 104,
   "metadata": {},
   "outputs": [
    {
     "name": "stderr",
     "output_type": "stream",
     "text": [
      "huggingface/tokenizers: The current process just got forked, after parallelism has already been used. Disabling parallelism to avoid deadlocks...\n",
      "To disable this warning, you can either:\n",
      "\t- Avoid using `tokenizers` before the fork if possible\n",
      "\t- Explicitly set the environment variable TOKENIZERS_PARALLELISM=(true | false)\n"
     ]
    },
    {
     "name": "stdout",
     "output_type": "stream",
     "text": [
      "Collecting seaborn\n",
      "  Downloading seaborn-0.13.2-py3-none-any.whl (294 kB)\n",
      "\u001b[K     |████████████████████████████████| 294 kB 40.1 MB/s eta 0:00:01\n",
      "\u001b[?25hRequirement already satisfied: numpy!=1.24.0,>=1.20 in /home/grad-min/.local/lib/python3.8/site-packages (from seaborn) (1.24.4)\n",
      "Requirement already satisfied: pandas>=1.2 in /home/grad-min/.local/lib/python3.8/site-packages (from seaborn) (2.0.3)\n",
      "Requirement already satisfied: matplotlib!=3.6.1,>=3.4 in /home/grad-min/.local/lib/python3.8/site-packages (from seaborn) (3.7.5)\n",
      "Requirement already satisfied: python-dateutil>=2.8.2 in /home/grad-min/.local/lib/python3.8/site-packages (from pandas>=1.2->seaborn) (2.9.0.post0)\n",
      "Requirement already satisfied: pytz>=2020.1 in /home/grad-min/.local/lib/python3.8/site-packages (from pandas>=1.2->seaborn) (2024.1)\n",
      "Requirement already satisfied: tzdata>=2022.1 in /home/grad-min/.local/lib/python3.8/site-packages (from pandas>=1.2->seaborn) (2024.1)\n",
      "Requirement already satisfied: kiwisolver>=1.0.1 in /home/grad-min/.local/lib/python3.8/site-packages (from matplotlib!=3.6.1,>=3.4->seaborn) (1.4.5)\n",
      "Requirement already satisfied: packaging>=20.0 in /home/grad-min/.local/lib/python3.8/site-packages (from matplotlib!=3.6.1,>=3.4->seaborn) (24.0)\n",
      "Requirement already satisfied: contourpy>=1.0.1 in /home/grad-min/.local/lib/python3.8/site-packages (from matplotlib!=3.6.1,>=3.4->seaborn) (1.1.1)\n",
      "Requirement already satisfied: pyparsing>=2.3.1 in /home/grad-min/.local/lib/python3.8/site-packages (from matplotlib!=3.6.1,>=3.4->seaborn) (3.1.2)\n",
      "Requirement already satisfied: pillow>=6.2.0 in /home/grad-min/.local/lib/python3.8/site-packages (from matplotlib!=3.6.1,>=3.4->seaborn) (10.3.0)\n",
      "Requirement already satisfied: cycler>=0.10 in /home/grad-min/.local/lib/python3.8/site-packages (from matplotlib!=3.6.1,>=3.4->seaborn) (0.12.1)\n",
      "Requirement already satisfied: importlib-resources>=3.2.0; python_version < \"3.10\" in /home/grad-min/.local/lib/python3.8/site-packages (from matplotlib!=3.6.1,>=3.4->seaborn) (6.4.0)\n",
      "Requirement already satisfied: fonttools>=4.22.0 in /home/grad-min/.local/lib/python3.8/site-packages (from matplotlib!=3.6.1,>=3.4->seaborn) (4.51.0)\n",
      "Requirement already satisfied: six>=1.5 in /usr/lib/python3/dist-packages (from python-dateutil>=2.8.2->pandas>=1.2->seaborn) (1.14.0)\n",
      "Requirement already satisfied: zipp>=3.1.0; python_version < \"3.10\" in /home/grad-min/.local/lib/python3.8/site-packages (from importlib-resources>=3.2.0; python_version < \"3.10\"->matplotlib!=3.6.1,>=3.4->seaborn) (3.18.2)\n",
      "Installing collected packages: seaborn\n",
      "Successfully installed seaborn-0.13.2\n"
     ]
    }
   ],
   "source": [
    "!pip install seaborn"
   ]
  },
  {
   "cell_type": "code",
   "execution_count": null,
   "metadata": {},
   "outputs": [],
   "source": []
  }
 ],
 "metadata": {
  "kernelspec": {
   "display_name": "Python 3",
   "language": "python",
   "name": "python3"
  },
  "language_info": {
   "codemirror_mode": {
    "name": "ipython",
    "version": 3
   },
   "file_extension": ".py",
   "mimetype": "text/x-python",
   "name": "python",
   "nbconvert_exporter": "python",
   "pygments_lexer": "ipython3",
   "version": "3.8.10"
  }
 },
 "nbformat": 4,
 "nbformat_minor": 2
}
